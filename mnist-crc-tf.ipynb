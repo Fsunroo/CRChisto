{
 "cells": [
  {
   "cell_type": "code",
   "execution_count": 1,
   "metadata": {
    "_cell_guid": "b1076dfc-b9ad-4769-8c92-a6c4dae69d19",
    "_uuid": "8f2839f25d086af736a60e9eeb907d3b93b6e0e5",
    "execution": {
     "iopub.execute_input": "2021-03-01T11:13:37.171509Z",
     "iopub.status.busy": "2021-03-01T11:13:37.170777Z",
     "iopub.status.idle": "2021-03-01T11:13:41.841329Z",
     "shell.execute_reply": "2021-03-01T11:13:41.842425Z"
    },
    "papermill": {
     "duration": 4.68499,
     "end_time": "2021-03-01T11:13:41.842839",
     "exception": false,
     "start_time": "2021-03-01T11:13:37.157849",
     "status": "completed"
    },
    "tags": []
   },
   "outputs": [],
   "source": [
    "\n",
    "import numpy as np # linear algebra\n",
    "import pandas as pd # data processing, CSV file I/O (e.g. pd.read_csv)\n",
    "import tensorflow as tf\n",
    "from tensorflow.keras.layers import Dense, Add\n",
    "from tensorflow.keras.models import Sequential\n",
    "\n",
    "import os\n",
    "\n"
   ]
  },
  {
   "cell_type": "code",
   "execution_count": 2,
   "metadata": {
    "execution": {
     "iopub.execute_input": "2021-03-01T11:13:41.876375Z",
     "iopub.status.busy": "2021-03-01T11:13:41.875480Z",
     "iopub.status.idle": "2021-03-01T11:13:43.957940Z",
     "shell.execute_reply": "2021-03-01T11:13:43.957244Z"
    },
    "papermill": {
     "duration": 2.102195,
     "end_time": "2021-03-01T11:13:43.958110",
     "exception": false,
     "start_time": "2021-03-01T11:13:41.855915",
     "status": "completed"
    },
    "tags": []
   },
   "outputs": [
    {
     "name": "stdout",
     "output_type": "stream",
     "text": [
      "Found 5000 images belonging to 8 classes.\n"
     ]
    }
   ],
   "source": [
    "path = '../input/colorectal-histology-mnist/Kather_texture_2016_image_tiles_5000/Kather_texture_2016_image_tiles_5000'\n",
    "IDG = tf.keras.preprocessing.image.ImageDataGenerator(\n",
    "    featurewise_center=False,\n",
    "    samplewise_center=False,\n",
    "    featurewise_std_normalization=False,\n",
    "    samplewise_std_normalization=False,\n",
    "    zca_whitening=False,\n",
    "    zca_epsilon=1e-06,\n",
    "    rotation_range=0.1,\n",
    "    width_shift_range=0.3,\n",
    "    height_shift_range=0.3,\n",
    "    brightness_range=None,\n",
    "    shear_range=0.1,\n",
    "    zoom_range=0.4,\n",
    "    channel_shift_range=0.0,\n",
    "    fill_mode=\"nearest\",\n",
    "    cval=0.0,\n",
    "    horizontal_flip=False,\n",
    "    vertical_flip=False,\n",
    "    rescale=None,\n",
    "    preprocessing_function=None,\n",
    "    data_format=None,\n",
    "    validation_split=0.1,\n",
    "    dtype=None,\n",
    ")\n",
    "train_dg =IDG.flow_from_directory(\n",
    "    path,\n",
    "    color_mode=('rgb'),\n",
    "    classes=None,\n",
    "    class_mode=\"categorical\",\n",
    "    batch_size=32,\n",
    "    shuffle=True,\n",
    "    subset=None,\n",
    "    interpolation=\"nearest\",\n",
    ")"
   ]
  },
  {
   "cell_type": "code",
   "execution_count": 3,
   "metadata": {
    "execution": {
     "iopub.execute_input": "2021-03-01T11:13:43.977618Z",
     "iopub.status.busy": "2021-03-01T11:13:43.976771Z",
     "iopub.status.idle": "2021-03-01T11:13:53.215830Z",
     "shell.execute_reply": "2021-03-01T11:13:53.214971Z"
    },
    "papermill": {
     "duration": 9.250603,
     "end_time": "2021-03-01T11:13:53.215986",
     "exception": false,
     "start_time": "2021-03-01T11:13:43.965383",
     "status": "completed"
    },
    "tags": []
   },
   "outputs": [
    {
     "name": "stdout",
     "output_type": "stream",
     "text": [
      "Model: \"sequential_1\"\n",
      "_________________________________________________________________\n",
      "Layer (type)                 Output Shape              Param #   \n",
      "=================================================================\n",
      "xception (Functional)        (None, 8, 8, 2048)        20861480  \n",
      "_________________________________________________________________\n",
      "global_max_pooling2d_1 (Glob (None, 2048)              0         \n",
      "_________________________________________________________________\n",
      "dense_1 (Dense)              (None, 10)                20490     \n",
      "_________________________________________________________________\n",
      "dense_2 (Dense)              (None, 1)                 11        \n",
      "=================================================================\n",
      "Total params: 20,881,981\n",
      "Trainable params: 20,827,453\n",
      "Non-trainable params: 54,528\n",
      "_________________________________________________________________\n"
     ]
    }
   ],
   "source": [
    "import requests\n",
    "url = 'https://github.com/Fsunroo/RSNA-BoneAge/releases/download/v1.0/output.hdf5'\n",
    "r = requests.get(url)\n",
    "with open('RSNA_Xception_1.hdf5','wb') as f:\n",
    "    f.write(r.content)\n",
    "source_model = tf.keras.models.load_model('RSNA_Xception_1.hdf5')\n",
    "source_model.summary()"
   ]
  },
  {
   "cell_type": "code",
   "execution_count": 4,
   "metadata": {
    "execution": {
     "iopub.execute_input": "2021-03-01T11:13:53.242201Z",
     "iopub.status.busy": "2021-03-01T11:13:53.238511Z",
     "iopub.status.idle": "2021-03-01T11:13:53.607783Z",
     "shell.execute_reply": "2021-03-01T11:13:53.607195Z"
    },
    "papermill": {
     "duration": 0.384606,
     "end_time": "2021-03-01T11:13:53.607933",
     "exception": false,
     "start_time": "2021-03-01T11:13:53.223327",
     "status": "completed"
    },
    "tags": []
   },
   "outputs": [
    {
     "name": "stdout",
     "output_type": "stream",
     "text": [
      "Model: \"sequential\"\n",
      "_________________________________________________________________\n",
      "Layer (type)                 Output Shape              Param #   \n",
      "=================================================================\n",
      "xception (Functional)        (None, 8, 8, 2048)        20861480  \n",
      "_________________________________________________________________\n",
      "global_max_pooling2d_1 (Glob (None, 2048)              0         \n",
      "_________________________________________________________________\n",
      "dense_1 (Dense)              (None, 10)                20490     \n",
      "_________________________________________________________________\n",
      "dense_2 (Dense)              (None, 8)                 88        \n",
      "=================================================================\n",
      "Total params: 20,882,058\n",
      "Trainable params: 20,827,530\n",
      "Non-trainable params: 54,528\n",
      "_________________________________________________________________\n"
     ]
    }
   ],
   "source": [
    "model = Sequential()\n",
    "for layer in source_model.layers[:-1]: # go through until last layer\n",
    "    model.add(layer)\n",
    "model.add(Dense(8, activation='softmax',name='dense_2'))\n",
    "model.summary()"
   ]
  },
  {
   "cell_type": "code",
   "execution_count": 5,
   "metadata": {
    "execution": {
     "iopub.execute_input": "2021-03-01T11:13:53.635725Z",
     "iopub.status.busy": "2021-03-01T11:13:53.634166Z",
     "iopub.status.idle": "2021-03-01T11:13:53.639836Z",
     "shell.execute_reply": "2021-03-01T11:13:53.640278Z"
    },
    "papermill": {
     "duration": 0.02465,
     "end_time": "2021-03-01T11:13:53.640444",
     "exception": false,
     "start_time": "2021-03-01T11:13:53.615794",
     "status": "completed"
    },
    "tags": []
   },
   "outputs": [],
   "source": [
    "model.compile(optimizer='adam', loss='categorical_crossentropy',metrics = 'accuracy')"
   ]
  },
  {
   "cell_type": "code",
   "execution_count": 6,
   "metadata": {
    "execution": {
     "iopub.execute_input": "2021-03-01T11:13:53.662987Z",
     "iopub.status.busy": "2021-03-01T11:13:53.661522Z",
     "iopub.status.idle": "2021-03-01T11:50:59.331652Z",
     "shell.execute_reply": "2021-03-01T11:50:59.326554Z"
    },
    "papermill": {
     "duration": 2225.683649,
     "end_time": "2021-03-01T11:50:59.332040",
     "exception": false,
     "start_time": "2021-03-01T11:13:53.648391",
     "status": "completed"
    },
    "tags": []
   },
   "outputs": [
    {
     "name": "stdout",
     "output_type": "stream",
     "text": [
      "Epoch 1/20\n",
      "157/157 [==============================] - 130s 775ms/step - loss: 1.6936 - accuracy: 0.3209\n",
      "Epoch 2/20\n",
      "157/157 [==============================] - 108s 682ms/step - loss: 0.8943 - accuracy: 0.6402\n",
      "Epoch 3/20\n",
      "157/157 [==============================] - 107s 683ms/step - loss: 0.7867 - accuracy: 0.6912\n",
      "Epoch 4/20\n",
      "157/157 [==============================] - 107s 681ms/step - loss: 0.6104 - accuracy: 0.7868\n",
      "Epoch 5/20\n",
      "157/157 [==============================] - 108s 686ms/step - loss: 0.4671 - accuracy: 0.8371\n",
      "Epoch 6/20\n",
      "157/157 [==============================] - 108s 687ms/step - loss: 0.4759 - accuracy: 0.8439\n",
      "Epoch 7/20\n",
      "157/157 [==============================] - 109s 692ms/step - loss: 0.4130 - accuracy: 0.8689\n",
      "Epoch 8/20\n",
      "157/157 [==============================] - 108s 686ms/step - loss: 0.3582 - accuracy: 0.8789\n",
      "Epoch 9/20\n",
      "157/157 [==============================] - 109s 691ms/step - loss: 0.3795 - accuracy: 0.8794\n",
      "Epoch 10/20\n",
      "157/157 [==============================] - 110s 698ms/step - loss: 0.3152 - accuracy: 0.8902\n",
      "Epoch 11/20\n",
      "157/157 [==============================] - 110s 697ms/step - loss: 0.3150 - accuracy: 0.8944\n",
      "Epoch 12/20\n",
      "157/157 [==============================] - 111s 706ms/step - loss: 0.3330 - accuracy: 0.8929\n",
      "Epoch 13/20\n",
      "157/157 [==============================] - 111s 706ms/step - loss: 0.2920 - accuracy: 0.8988\n",
      "Epoch 14/20\n",
      "157/157 [==============================] - 112s 710ms/step - loss: 0.2909 - accuracy: 0.9035\n",
      "Epoch 15/20\n",
      "157/157 [==============================] - 111s 707ms/step - loss: 0.2637 - accuracy: 0.9126\n",
      "Epoch 16/20\n",
      "157/157 [==============================] - 113s 718ms/step - loss: 0.2556 - accuracy: 0.9149\n",
      "Epoch 17/20\n",
      "157/157 [==============================] - 112s 715ms/step - loss: 0.2272 - accuracy: 0.9210\n",
      "Epoch 18/20\n",
      "157/157 [==============================] - 113s 717ms/step - loss: 0.1960 - accuracy: 0.9306\n",
      "Epoch 19/20\n",
      "157/157 [==============================] - 114s 724ms/step - loss: 0.2006 - accuracy: 0.9333\n",
      "Epoch 20/20\n",
      "157/157 [==============================] - 113s 721ms/step - loss: 0.2222 - accuracy: 0.9275\n"
     ]
    }
   ],
   "source": [
    "history = model.fit(\n",
    "    train_dg,  epochs=20, verbose=1,\n",
    "    class_weight=None, max_queue_size=10, workers=1, use_multiprocessing=False,\n",
    "    shuffle=True, initial_epoch=0\n",
    ")"
   ]
  },
  {
   "cell_type": "code",
   "execution_count": 7,
   "metadata": {
    "execution": {
     "iopub.execute_input": "2021-03-01T11:51:01.932309Z",
     "iopub.status.busy": "2021-03-01T11:51:01.922187Z",
     "iopub.status.idle": "2021-03-01T11:51:02.700368Z",
     "shell.execute_reply": "2021-03-01T11:51:02.699766Z"
    },
    "papermill": {
     "duration": 2.198864,
     "end_time": "2021-03-01T11:51:02.700514",
     "exception": false,
     "start_time": "2021-03-01T11:51:00.501650",
     "status": "completed"
    },
    "tags": []
   },
   "outputs": [],
   "source": [
    "model.save('Xception on CRC-2.hdf5')"
   ]
  },
  {
   "cell_type": "markdown",
   "metadata": {
    "papermill": {
     "duration": 1.136015,
     "end_time": "2021-03-01T11:51:04.940207",
     "exception": false,
     "start_time": "2021-03-01T11:51:03.804192",
     "status": "completed"
    },
    "tags": []
   },
   "source": [
    "<a href=\"./RSNA_Xception_1.hdf5\"> Download File </a>\n"
   ]
  }
 ],
 "metadata": {
  "kernelspec": {
   "display_name": "Python 3",
   "language": "python",
   "name": "python3"
  },
  "language_info": {
   "codemirror_mode": {
    "name": "ipython",
    "version": 3
   },
   "file_extension": ".py",
   "mimetype": "text/x-python",
   "name": "python",
   "nbconvert_exporter": "python",
   "pygments_lexer": "ipython3",
   "version": "3.7.9"
  },
  "papermill": {
   "default_parameters": {},
   "duration": 2257.716883,
   "end_time": "2021-03-01T11:51:09.595594",
   "environment_variables": {},
   "exception": null,
   "input_path": "__notebook__.ipynb",
   "output_path": "__notebook__.ipynb",
   "parameters": {},
   "start_time": "2021-03-01T11:13:31.878711",
   "version": "2.2.2"
  }
 },
 "nbformat": 4,
 "nbformat_minor": 4
}
